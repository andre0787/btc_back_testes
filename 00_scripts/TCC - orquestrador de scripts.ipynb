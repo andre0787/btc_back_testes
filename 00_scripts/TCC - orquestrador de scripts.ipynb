{
 "cells": [
  {
   "cell_type": "markdown",
   "metadata": {},
   "source": [
    "testes"
   ]
  },
  {
   "cell_type": "code",
   "execution_count": 8,
   "metadata": {},
   "outputs": [],
   "source": [
    "# Importando o módulo subprocess\n",
    "import subprocess\n",
    "\n",
    "scripts = [\n",
    "    \"../scripts python/TCC - Relatorio do BTC com indicadores - VF 2024-03-15.ipynb\",\n",
    "    \"../scripts python/TCC - teste de investimento 2024-03-11 - VF 2024-03-15.ipynb\",\n",
    "]\n",
    "\n",
    "\n",
    "# Executando cada script notebook usando subprocess.run com -clear-output para não gerar os arquivos nbconvert\n",
    "# utilizando o metodo comunicate para ordenrar os processamentos em fila um após o outro\n",
    "\n",
    "for script in scripts:\n",
    "    process = subprocess.Popen([\"jupyter\", \"nbconvert\", \"--to\", \"notebook\", \"--execute\", \"--clear-output\", script])\n",
    "    process.communicate()\n",
    "    if process.returncode != 0:\n",
    "        print(f\"Erro ao executar o script {script}\")\n"
   ]
  }
 ],
 "metadata": {
  "kernelspec": {
   "display_name": "Python 3",
   "language": "python",
   "name": "python3"
  },
  "language_info": {
   "codemirror_mode": {
    "name": "ipython",
    "version": 3
   },
   "file_extension": ".py",
   "mimetype": "text/x-python",
   "name": "python",
   "nbconvert_exporter": "python",
   "pygments_lexer": "ipython3",
   "version": "3.11.7"
  }
 },
 "nbformat": 4,
 "nbformat_minor": 2
}
